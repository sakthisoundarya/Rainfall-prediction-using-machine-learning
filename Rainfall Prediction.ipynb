{
 "cells": [
  {
   "cell_type": "markdown",
   "metadata": {},
   "source": [
    "# Rainfall Prediction"
   ]
  },
  {
   "cell_type": "code",
   "execution_count": 28,
   "metadata": {},
   "outputs": [],
   "source": [
    "import pandas as pd   #importing Libraries\n",
    "import numpy as np\n",
    "import matplotlib.pyplot as plt"
   ]
  },
  {
   "cell_type": "code",
   "execution_count": 29,
   "metadata": {},
   "outputs": [],
   "source": [
    "ds=pd.read_csv(\"fall.csv\")   #Reading Dataset"
   ]
  },
  {
   "cell_type": "code",
   "execution_count": 30,
   "metadata": {
    "scrolled": true
   },
   "outputs": [
    {
     "data": {
      "text/html": [
       "<div>\n",
       "<style scoped>\n",
       "    .dataframe tbody tr th:only-of-type {\n",
       "        vertical-align: middle;\n",
       "    }\n",
       "\n",
       "    .dataframe tbody tr th {\n",
       "        vertical-align: top;\n",
       "    }\n",
       "\n",
       "    .dataframe thead th {\n",
       "        text-align: right;\n",
       "    }\n",
       "</style>\n",
       "<table border=\"1\" class=\"dataframe\">\n",
       "  <thead>\n",
       "    <tr style=\"text-align: right;\">\n",
       "      <th></th>\n",
       "      <th>year</th>\n",
       "      <th>month</th>\n",
       "      <th>day</th>\n",
       "      <th>tempavg</th>\n",
       "      <th>DPavg</th>\n",
       "      <th>humidity avg</th>\n",
       "      <th>SLPavg</th>\n",
       "      <th>visibilityavg</th>\n",
       "      <th>windavg</th>\n",
       "      <th>Rainfall</th>\n",
       "    </tr>\n",
       "  </thead>\n",
       "  <tbody>\n",
       "    <tr>\n",
       "      <th>0</th>\n",
       "      <td>2011</td>\n",
       "      <td>2</td>\n",
       "      <td>13</td>\n",
       "      <td>21</td>\n",
       "      <td>13</td>\n",
       "      <td>60</td>\n",
       "      <td>1009</td>\n",
       "      <td>3</td>\n",
       "      <td>5</td>\n",
       "      <td>0.0</td>\n",
       "    </tr>\n",
       "    <tr>\n",
       "      <th>1</th>\n",
       "      <td>2011</td>\n",
       "      <td>2</td>\n",
       "      <td>14</td>\n",
       "      <td>21</td>\n",
       "      <td>18</td>\n",
       "      <td>75</td>\n",
       "      <td>1009</td>\n",
       "      <td>3</td>\n",
       "      <td>5</td>\n",
       "      <td>0.0</td>\n",
       "    </tr>\n",
       "    <tr>\n",
       "      <th>2</th>\n",
       "      <td>2011</td>\n",
       "      <td>2</td>\n",
       "      <td>15</td>\n",
       "      <td>22</td>\n",
       "      <td>18</td>\n",
       "      <td>75</td>\n",
       "      <td>1010</td>\n",
       "      <td>3</td>\n",
       "      <td>10</td>\n",
       "      <td>0.0</td>\n",
       "    </tr>\n",
       "    <tr>\n",
       "      <th>3</th>\n",
       "      <td>2011</td>\n",
       "      <td>2</td>\n",
       "      <td>16</td>\n",
       "      <td>23</td>\n",
       "      <td>21</td>\n",
       "      <td>86</td>\n",
       "      <td>1011</td>\n",
       "      <td>3</td>\n",
       "      <td>8</td>\n",
       "      <td>0.0</td>\n",
       "    </tr>\n",
       "    <tr>\n",
       "      <th>4</th>\n",
       "      <td>2011</td>\n",
       "      <td>2</td>\n",
       "      <td>17</td>\n",
       "      <td>23</td>\n",
       "      <td>19</td>\n",
       "      <td>75</td>\n",
       "      <td>1011</td>\n",
       "      <td>3</td>\n",
       "      <td>8</td>\n",
       "      <td>0.0</td>\n",
       "    </tr>\n",
       "  </tbody>\n",
       "</table>\n",
       "</div>"
      ],
      "text/plain": [
       "   year  month  day  tempavg  DPavg  humidity avg  SLPavg  visibilityavg  \\\n",
       "0  2011      2   13       21     13            60    1009              3   \n",
       "1  2011      2   14       21     18            75    1009              3   \n",
       "2  2011      2   15       22     18            75    1010              3   \n",
       "3  2011      2   16       23     21            86    1011              3   \n",
       "4  2011      2   17       23     19            75    1011              3   \n",
       "\n",
       "   windavg  Rainfall  \n",
       "0        5       0.0  \n",
       "1        5       0.0  \n",
       "2       10       0.0  \n",
       "3        8       0.0  \n",
       "4        8       0.0  "
      ]
     },
     "execution_count": 30,
     "metadata": {},
     "output_type": "execute_result"
    }
   ],
   "source": [
    "ds.head()     #Displaying first 5 records"
   ]
  },
  {
   "cell_type": "code",
   "execution_count": 31,
   "metadata": {},
   "outputs": [],
   "source": [
    "ds=ds.drop(['month','day'], axis=1)   #Droping Unnecessary columns"
   ]
  },
  {
   "cell_type": "code",
   "execution_count": 32,
   "metadata": {},
   "outputs": [
    {
     "data": {
      "text/html": [
       "<div>\n",
       "<style scoped>\n",
       "    .dataframe tbody tr th:only-of-type {\n",
       "        vertical-align: middle;\n",
       "    }\n",
       "\n",
       "    .dataframe tbody tr th {\n",
       "        vertical-align: top;\n",
       "    }\n",
       "\n",
       "    .dataframe thead th {\n",
       "        text-align: right;\n",
       "    }\n",
       "</style>\n",
       "<table border=\"1\" class=\"dataframe\">\n",
       "  <thead>\n",
       "    <tr style=\"text-align: right;\">\n",
       "      <th></th>\n",
       "      <th>year</th>\n",
       "      <th>tempavg</th>\n",
       "      <th>DPavg</th>\n",
       "      <th>humidity avg</th>\n",
       "      <th>SLPavg</th>\n",
       "      <th>visibilityavg</th>\n",
       "      <th>windavg</th>\n",
       "      <th>Rainfall</th>\n",
       "    </tr>\n",
       "  </thead>\n",
       "  <tbody>\n",
       "    <tr>\n",
       "      <th>0</th>\n",
       "      <td>2011</td>\n",
       "      <td>21</td>\n",
       "      <td>13</td>\n",
       "      <td>60</td>\n",
       "      <td>1009</td>\n",
       "      <td>3</td>\n",
       "      <td>5</td>\n",
       "      <td>0.0</td>\n",
       "    </tr>\n",
       "    <tr>\n",
       "      <th>1</th>\n",
       "      <td>2011</td>\n",
       "      <td>21</td>\n",
       "      <td>18</td>\n",
       "      <td>75</td>\n",
       "      <td>1009</td>\n",
       "      <td>3</td>\n",
       "      <td>5</td>\n",
       "      <td>0.0</td>\n",
       "    </tr>\n",
       "    <tr>\n",
       "      <th>2</th>\n",
       "      <td>2011</td>\n",
       "      <td>22</td>\n",
       "      <td>18</td>\n",
       "      <td>75</td>\n",
       "      <td>1010</td>\n",
       "      <td>3</td>\n",
       "      <td>10</td>\n",
       "      <td>0.0</td>\n",
       "    </tr>\n",
       "    <tr>\n",
       "      <th>3</th>\n",
       "      <td>2011</td>\n",
       "      <td>23</td>\n",
       "      <td>21</td>\n",
       "      <td>86</td>\n",
       "      <td>1011</td>\n",
       "      <td>3</td>\n",
       "      <td>8</td>\n",
       "      <td>0.0</td>\n",
       "    </tr>\n",
       "    <tr>\n",
       "      <th>4</th>\n",
       "      <td>2011</td>\n",
       "      <td>23</td>\n",
       "      <td>19</td>\n",
       "      <td>75</td>\n",
       "      <td>1011</td>\n",
       "      <td>3</td>\n",
       "      <td>8</td>\n",
       "      <td>0.0</td>\n",
       "    </tr>\n",
       "  </tbody>\n",
       "</table>\n",
       "</div>"
      ],
      "text/plain": [
       "   year  tempavg  DPavg  humidity avg  SLPavg  visibilityavg  windavg  \\\n",
       "0  2011       21     13            60    1009              3        5   \n",
       "1  2011       21     18            75    1009              3        5   \n",
       "2  2011       22     18            75    1010              3       10   \n",
       "3  2011       23     21            86    1011              3        8   \n",
       "4  2011       23     19            75    1011              3        8   \n",
       "\n",
       "   Rainfall  \n",
       "0       0.0  \n",
       "1       0.0  \n",
       "2       0.0  \n",
       "3       0.0  \n",
       "4       0.0  "
      ]
     },
     "execution_count": 32,
     "metadata": {},
     "output_type": "execute_result"
    }
   ],
   "source": [
    "ds.head()    #Displaying first 5 records"
   ]
  },
  {
   "cell_type": "code",
   "execution_count": 33,
   "metadata": {},
   "outputs": [
    {
     "data": {
      "text/plain": [
       "year             0\n",
       "tempavg          0\n",
       "DPavg            0\n",
       "humidity avg     0\n",
       "SLPavg           0\n",
       "visibilityavg    0\n",
       "windavg          0\n",
       "Rainfall         0\n",
       "dtype: int64"
      ]
     },
     "execution_count": 33,
     "metadata": {},
     "output_type": "execute_result"
    }
   ],
   "source": [
    "ds.isnull().sum()      #Checking for any missing values"
   ]
  },
  {
   "cell_type": "code",
   "execution_count": 36,
   "metadata": {},
   "outputs": [],
   "source": [
    "x=ds.iloc[:,:7].values     #Assigning variables to the dependent and independent attiributes\n",
    "y=ds.iloc[:,7].values"
   ]
  },
  {
   "cell_type": "code",
   "execution_count": 37,
   "metadata": {},
   "outputs": [
    {
     "data": {
      "text/plain": [
       "array([[2011,   21,   13, ..., 1009,    3,    5],\n",
       "       [2011,   21,   18, ..., 1009,    3,    5],\n",
       "       [2011,   22,   18, ..., 1010,    3,   10],\n",
       "       ...,\n",
       "       [2017,   23,   16, ..., 1014,    4,    5],\n",
       "       [2017,   23,   17, ..., 1013,    4,    5],\n",
       "       [2017,   24,   18, ..., 1012,    4,    2]], dtype=int64)"
      ]
     },
     "execution_count": 37,
     "metadata": {},
     "output_type": "execute_result"
    }
   ],
   "source": [
    "x"
   ]
  },
  {
   "cell_type": "code",
   "execution_count": 38,
   "metadata": {},
   "outputs": [
    {
     "data": {
      "text/plain": [
       "array([0., 0., 0., ..., 0., 0., 0.])"
      ]
     },
     "execution_count": 38,
     "metadata": {},
     "output_type": "execute_result"
    }
   ],
   "source": [
    "y"
   ]
  },
  {
   "cell_type": "code",
   "execution_count": 39,
   "metadata": {},
   "outputs": [],
   "source": [
    "from sklearn.model_selection import train_test_split         #performing train-test split.\n",
    "x_train, x_test, y_train, y_test = train_test_split(x, y, test_size = 0.20,random_state=0)   "
   ]
  },
  {
   "cell_type": "code",
   "execution_count": 40,
   "metadata": {},
   "outputs": [
    {
     "data": {
      "text/plain": [
       "array([[2015,   30,   27, ..., 1004,    6,   14],\n",
       "       [2015,   29,   26, ..., 1008,    6,   13],\n",
       "       [2017,   25,   22, ..., 1012,    4,   14],\n",
       "       ...,\n",
       "       [2013,   28,   26, ..., 1003,    5,   10],\n",
       "       [2013,   23,   22, ..., 1007,    5,   11],\n",
       "       [2016,   18,   14, ..., 1017,    2,   13]], dtype=int64)"
      ]
     },
     "execution_count": 40,
     "metadata": {},
     "output_type": "execute_result"
    }
   ],
   "source": [
    "x_train"
   ]
  },
  {
   "cell_type": "code",
   "execution_count": 41,
   "metadata": {},
   "outputs": [
    {
     "data": {
      "text/plain": [
       "RandomForestRegressor(random_state=0)"
      ]
     },
     "execution_count": 41,
     "metadata": {},
     "output_type": "execute_result"
    }
   ],
   "source": [
    "from sklearn.ensemble import RandomForestRegressor       #Model building using Random Forest\n",
    "regressor = RandomForestRegressor(n_estimators=100, random_state = 0)\n",
    "regressor.fit(x_train, y_train)\n"
   ]
  },
  {
   "cell_type": "code",
   "execution_count": 42,
   "metadata": {},
   "outputs": [],
   "source": [
    "ypred =regressor.predict(x_test)     #Predicting using testing data on trained data."
   ]
  },
  {
   "cell_type": "code",
   "execution_count": 43,
   "metadata": {},
   "outputs": [
    {
     "data": {
      "text/plain": [
       "array([7.18700000e-01, 0.00000000e+00, 0.00000000e+00, 0.00000000e+00,\n",
       "       0.00000000e+00, 0.00000000e+00, 0.00000000e+00, 0.00000000e+00,\n",
       "       7.67110000e+00, 1.51170000e+00, 2.18380000e+00, 8.64940000e+00,\n",
       "       2.54000000e-01, 0.00000000e+00, 6.47110000e+00, 5.10000000e-03,\n",
       "       4.97400000e+00, 7.31500000e-01, 1.17830000e+00, 1.77600000e-01,\n",
       "       0.00000000e+00, 4.55722000e+01, 6.93180000e+00, 1.01308000e+01,\n",
       "       2.02310000e+00, 2.84500000e-01, 0.00000000e+00, 7.50000000e-03,\n",
       "       1.22150000e+00, 0.00000000e+00, 6.98600000e-01, 1.26900000e-01,\n",
       "       0.00000000e+00, 2.12630000e+00, 6.16950000e+00, 0.00000000e+00,\n",
       "       3.81320000e+00, 0.00000000e+00, 1.51974000e+01, 0.00000000e+00,\n",
       "       4.14550000e+00, 0.00000000e+00, 5.60000000e-02, 0.00000000e+00,\n",
       "       0.00000000e+00, 0.00000000e+00, 1.01400000e-01, 6.14700000e-01,\n",
       "       9.55020000e+00, 5.05300000e-01, 2.03000000e-02, 9.43910000e+00,\n",
       "       6.08290000e+00, 3.09360000e+00, 1.33870000e+00, 2.94513000e+01,\n",
       "       0.00000000e+00, 9.95500000e-01, 6.55400000e-01, 8.57960000e+00,\n",
       "       3.60130000e+00, 1.42480000e+00, 2.77840000e+00, 0.00000000e+00,\n",
       "       1.46090000e+00, 1.60000000e-01, 0.00000000e+00, 0.00000000e+00,\n",
       "       2.47860000e+00, 2.23640000e+00, 3.98800000e-01, 3.45400000e-01,\n",
       "       2.31398000e+01, 3.27900000e+00, 2.15570000e+00, 3.19250000e+00,\n",
       "       0.00000000e+00, 2.37780000e+00, 3.07300000e-01, 0.00000000e+00,\n",
       "       1.84660000e+00, 0.00000000e+00, 0.00000000e+00, 1.53540000e+00,\n",
       "       4.67000000e-01, 1.87410000e+00, 2.28620000e+00, 4.37100000e-01,\n",
       "       1.43740000e+00, 3.68300000e-01, 0.00000000e+00, 1.31850000e+00,\n",
       "       7.22250000e+00, 2.35240000e+00, 1.49050500e+01, 5.89100000e-01,\n",
       "       0.00000000e+00, 2.51170000e+00, 2.31910000e+00, 0.00000000e+00,\n",
       "       5.39380000e+00, 3.38500000e+00, 1.31810000e+00, 3.16980000e+00,\n",
       "       3.46400000e+00, 8.36000000e-02, 0.00000000e+00, 0.00000000e+00,\n",
       "       2.50000000e-03, 5.05400000e-01, 1.62500000e-01, 0.00000000e+00,\n",
       "       1.39480000e+00, 9.85600000e-01, 1.04330000e+00, 1.67121000e+01,\n",
       "       9.21700000e-01, 7.64720000e+00, 0.00000000e+00, 1.49800000e-01,\n",
       "       3.25000000e-01, 8.78800000e-01, 6.35200000e-01, 4.36700000e-01,\n",
       "       0.00000000e+00, 1.43642000e+01, 0.00000000e+00, 1.64656000e+01,\n",
       "       6.42900000e-01, 7.87000000e-02, 1.02000000e-02, 1.19994000e+01,\n",
       "       1.59750000e+00, 4.24190000e+00, 1.57210000e+00, 5.80493333e+00,\n",
       "       1.52150000e+00, 3.49246000e+01, 0.00000000e+00, 0.00000000e+00,\n",
       "       3.62710000e+00, 7.64300000e-01, 2.32464000e+01, 7.38300000e+00,\n",
       "       0.00000000e+00, 2.18500000e+00, 3.49630000e+00, 1.31700000e-01,\n",
       "       8.96600000e+00, 3.19030000e+00, 0.00000000e+00, 3.84190000e+00,\n",
       "       1.24500000e-01, 3.34880000e+00, 1.00000000e-02, 0.00000000e+00,\n",
       "       7.92500000e-01, 0.00000000e+00, 3.32807500e+01, 8.63000000e-02,\n",
       "       0.00000000e+00, 3.16640000e+00, 0.00000000e+00, 1.45615000e+01,\n",
       "       0.00000000e+00, 2.35470000e+00, 1.02000000e-02, 5.71600000e-01,\n",
       "       6.10000000e-02, 7.62100000e-01, 3.03730000e+00, 0.00000000e+00,\n",
       "       1.26738000e+01, 2.03200000e-01, 1.12570000e+00, 1.56670000e+00,\n",
       "       4.78750000e+00, 2.74300000e-01, 1.02000000e-02, 0.00000000e+00,\n",
       "       4.09200000e-01, 3.26920000e+00, 5.97660000e+00, 5.43400000e-01,\n",
       "       6.27500000e-01, 1.22911000e+01, 0.00000000e+00, 2.13830000e+00,\n",
       "       6.40100000e-01, 2.46400000e-01, 4.27930000e+00, 9.71710000e+00,\n",
       "       1.12976000e+01, 1.01200000e+00, 0.00000000e+00, 7.28900000e-01,\n",
       "       1.49150000e+00, 1.63888000e+01, 1.73708000e+01, 0.00000000e+00,\n",
       "       0.00000000e+00, 0.00000000e+00, 9.11800000e-01, 0.00000000e+00,\n",
       "       0.00000000e+00, 1.07690000e+00, 0.00000000e+00, 0.00000000e+00,\n",
       "       0.00000000e+00, 0.00000000e+00, 3.66520000e+00, 2.87780000e+00,\n",
       "       0.00000000e+00, 1.05742000e+01, 4.84900000e-01, 1.64717000e+01,\n",
       "       6.83300000e-01, 4.04360000e+00, 9.09100000e-01, 0.00000000e+00,\n",
       "       1.52000000e-02, 0.00000000e+00, 0.00000000e+00, 1.71421000e+01,\n",
       "       6.37010000e+00, 1.50467000e+01, 4.02470000e+00, 0.00000000e+00,\n",
       "       1.56076000e+01, 0.00000000e+00, 8.48800000e-01, 1.16005000e+01,\n",
       "       3.40400000e-01, 5.66900000e-01, 6.81100000e-01, 1.00184000e+01,\n",
       "       0.00000000e+00, 7.44400000e-01, 1.02000000e-02, 0.00000000e+00,\n",
       "       3.45420000e+00, 0.00000000e+00, 9.15000000e-02, 5.48700000e-01,\n",
       "       2.99120000e+00, 1.41940000e+00, 0.00000000e+00, 2.28000000e-02,\n",
       "       2.35650000e+00, 0.00000000e+00, 2.00440000e+00, 8.43000000e-01,\n",
       "       2.83640000e+00, 3.48000000e-01, 0.00000000e+00, 8.63700000e-01,\n",
       "       0.00000000e+00, 6.12350000e+00, 1.85020000e+00, 1.29600000e-01,\n",
       "       2.03200000e-01, 3.70800000e-01, 0.00000000e+00, 0.00000000e+00,\n",
       "       1.47300000e-01, 2.03856000e+01, 1.83970000e+00, 0.00000000e+00,\n",
       "       3.79960000e+00, 2.12070000e+00, 4.31300000e-01, 1.27000000e-02,\n",
       "       0.00000000e+00, 0.00000000e+00, 1.06590000e+00, 1.98200000e-01,\n",
       "       2.30100000e+00, 7.60000000e-03, 1.91760000e+00, 3.43470000e+00,\n",
       "       1.88190000e+00, 1.53170000e+00, 1.06470000e+00, 9.85700000e-01,\n",
       "       3.06590000e+00, 1.69600000e-01, 0.00000000e+00, 9.22730000e+00,\n",
       "       2.53900000e-01, 2.06220000e+00, 8.81680000e+00, 4.41100000e+00,\n",
       "       2.28600000e-01, 0.00000000e+00, 2.74072000e+01, 1.26720000e+00,\n",
       "       6.85000000e-02, 1.06700000e-01, 0.00000000e+00, 8.84650000e+00,\n",
       "       2.03500000e+00, 1.90030000e+00, 1.17805000e+01, 1.21970000e+00,\n",
       "       2.30350000e+00, 1.43750000e+00, 4.65300000e-01, 0.00000000e+00,\n",
       "       0.00000000e+00, 0.00000000e+00, 6.49030000e+00, 0.00000000e+00,\n",
       "       4.03800000e-01, 0.00000000e+00, 0.00000000e+00, 3.30200000e-01,\n",
       "       2.94800000e-01, 3.28420000e+00, 2.84410000e+00, 2.90090000e+00,\n",
       "       2.68057100e+01, 5.07900000e-01, 6.33570000e+00, 3.71260000e+00,\n",
       "       3.54390000e+00, 2.72760000e+00, 3.06510000e+00, 9.92290000e+00,\n",
       "       3.70900000e-01, 1.04952500e+01, 0.00000000e+00, 9.52600000e-01,\n",
       "       0.00000000e+00, 8.07600000e-01, 3.18602500e+00, 2.19634000e+01,\n",
       "       0.00000000e+00, 4.11400000e-01, 5.00000000e-03, 4.97900000e-01,\n",
       "       2.19690000e+00, 2.42310000e+00, 1.34180000e+00, 0.00000000e+00,\n",
       "       2.04446000e+01, 2.50000000e-03, 8.39750000e+00, 0.00000000e+00,\n",
       "       0.00000000e+00, 1.04557000e+01, 1.19400000e-01, 1.17030000e+00,\n",
       "       1.24200000e+00, 2.28600000e-01, 2.04000000e-02, 0.00000000e+00,\n",
       "       2.29000000e-02, 2.01793000e+01, 0.00000000e+00, 1.52110000e+00,\n",
       "       0.00000000e+00, 5.31790000e+00, 0.00000000e+00, 8.84930000e+00,\n",
       "       0.00000000e+00, 1.27000000e-01, 1.00365000e+01, 5.59500000e+00,\n",
       "       0.00000000e+00, 4.78800000e-01, 1.41230000e+00, 6.42150000e+00,\n",
       "       0.00000000e+00, 0.00000000e+00, 0.00000000e+00, 2.14230000e+00,\n",
       "       0.00000000e+00, 1.08430000e+00, 9.06600000e-01, 0.00000000e+00,\n",
       "       4.49100000e+00, 1.44430000e+00, 1.09240000e+00, 3.06820000e+00,\n",
       "       1.32300000e-01, 0.00000000e+00, 9.57100000e-01, 4.45580000e+00,\n",
       "       1.01380000e+00, 1.00620000e+00, 2.02410000e+00, 1.29050000e+00,\n",
       "       7.87000000e-02, 1.92900000e-01, 0.00000000e+00, 0.00000000e+00,\n",
       "       2.26130000e+00, 1.39700000e-01, 1.16080000e+00, 0.00000000e+00,\n",
       "       2.05800000e-01, 1.09300000e-01, 1.15540000e+00, 2.25268000e+01,\n",
       "       5.08000000e-02, 3.61180000e+00, 0.00000000e+00, 1.23569000e+01,\n",
       "       4.34390000e+00, 3.21590000e+00, 2.50000000e-03, 1.08700000e+00,\n",
       "       1.55450000e+00, 0.00000000e+00, 1.17473000e+01, 1.88190000e+00,\n",
       "       3.60800000e-01, 1.93240000e+00, 1.57174000e+01, 2.31000000e-01,\n",
       "       1.50650000e+00, 1.17870000e+00, 7.28300000e-01, 2.46150000e+00,\n",
       "       1.85580000e+00, 1.83000000e-01, 0.00000000e+00, 2.46400000e-01,\n",
       "       3.71340000e+00, 0.00000000e+00, 0.00000000e+00, 1.42100000e-01,\n",
       "       3.76210000e+00, 0.00000000e+00, 7.38710000e+00, 0.00000000e+00,\n",
       "       0.00000000e+00, 7.72400000e-01, 8.80620000e+00, 0.00000000e+00,\n",
       "       9.53270000e+00, 7.06760000e+00, 1.47560000e+00, 1.02340000e+00,\n",
       "       0.00000000e+00, 1.31403000e+01, 0.00000000e+00, 4.37100000e-01,\n",
       "       0.00000000e+00, 2.32110000e+00, 1.87570000e+00, 2.03720000e+00,\n",
       "       0.00000000e+00, 0.00000000e+00, 3.68200000e-01, 1.60650000e+00,\n",
       "       1.78000000e-02, 0.00000000e+00, 1.82610000e+00, 6.79640000e+00,\n",
       "       1.32590000e+00, 2.59110000e+00, 2.18400000e-01, 1.26230000e+00,\n",
       "       2.04000000e-02, 3.58200000e-01, 8.43200000e-01, 1.33850000e+00,\n",
       "       1.87462500e+01, 0.00000000e+00, 7.72880000e+00, 7.24140000e+00,\n",
       "       4.02900000e-01])"
      ]
     },
     "execution_count": 43,
     "metadata": {},
     "output_type": "execute_result"
    }
   ],
   "source": [
    "ypred"
   ]
  },
  {
   "cell_type": "code",
   "execution_count": 44,
   "metadata": {},
   "outputs": [
    {
     "data": {
      "text/plain": [
       "(473,)"
      ]
     },
     "execution_count": 44,
     "metadata": {},
     "output_type": "execute_result"
    }
   ],
   "source": [
    "y_test.shape\n"
   ]
  },
  {
   "cell_type": "code",
   "execution_count": 45,
   "metadata": {},
   "outputs": [
    {
     "data": {
      "text/plain": [
       "0.2728975259726836"
      ]
     },
     "execution_count": 45,
     "metadata": {},
     "output_type": "execute_result"
    }
   ],
   "source": [
    "from sklearn.metrics import r2_score #Testing accuracy\n",
    "r2_score(y_test,ypred)"
   ]
  },
  {
   "cell_type": "code",
   "execution_count": 46,
   "metadata": {},
   "outputs": [
    {
     "data": {
      "text/plain": [
       "(1889, 7)"
      ]
     },
     "execution_count": 46,
     "metadata": {},
     "output_type": "execute_result"
    }
   ],
   "source": [
    "x_train.shape"
   ]
  },
  {
   "cell_type": "code",
   "execution_count": 47,
   "metadata": {},
   "outputs": [
    {
     "data": {
      "text/plain": [
       "(1889,)"
      ]
     },
     "execution_count": 47,
     "metadata": {},
     "output_type": "execute_result"
    }
   ],
   "source": [
    "y_train.shape"
   ]
  },
  {
   "cell_type": "code",
   "execution_count": 53,
   "metadata": {},
   "outputs": [
    {
     "data": {
      "image/png": "[encoded data removed]",
      "text/plain": [
       "<Figure size 432x288 with 1 Axes>"
      ]
     },
     "metadata": {
      "needs_background": "light"
     },
     "output_type": "display_data"
    }
   ],
   "source": [
    "plt.scatter(x_train[:,1],y_train,color='blue')      #Displaying relation b/w temp and rainfall\n",
    "plt.title('Rainfall prediction (Training set)')\n",
    "plt.xlabel('Temperature')\n",
    "plt.ylabel('Rainfall')\n",
    "plt.show()"
   ]
  },
  {
   "cell_type": "code",
   "execution_count": 54,
   "metadata": {},
   "outputs": [
    {
     "data": {
      "image/png": "[encoded data removed]",
      "text/plain": [
       "<Figure size 432x288 with 1 Axes>"
      ]
     },
     "metadata": {
      "needs_background": "light"
     },
     "output_type": "display_data"
    }
   ],
   "source": [
    "plt.scatter(x_train[:,2],y_train,color='blue')      #Displaying relation b/w dp avg and rainfall\n",
    "plt.title('Rainfall prediction (Training set)')\n",
    "plt.xlabel('DP avg')\n",
    "plt.ylabel('Rainfall')\n",
    "plt.show()"
   ]
  },
  {
   "cell_type": "code",
   "execution_count": 55,
   "metadata": {},
   "outputs": [
    {
     "data": {
      "image/png": "[encoded data removed]",
      "text/plain": [
       "<Figure size 432x288 with 1 Axes>"
      ]
     },
     "metadata": {
      "needs_background": "light"
     },
     "output_type": "display_data"
    }
   ],
   "source": [
    "plt.scatter(x_train[:,3],y_train,color='blue')      #Displaying relation b/w humidity and rainfall\n",
    "plt.title('Rainfall prediction (Training set)')\n",
    "plt.xlabel('Humidity')\n",
    "plt.ylabel('Rainfall')\n",
    "plt.show()"
   ]
  },
  {
   "cell_type": "code",
   "execution_count": 56,
   "metadata": {},
   "outputs": [
    {
     "data": {
      "image/png": "[encoded data removed]",
      "text/plain": [
       "<Figure size 432x288 with 1 Axes>"
      ]
     },
     "metadata": {
      "needs_background": "light"
     },
     "output_type": "display_data"
    }
   ],
   "source": [
    "plt.scatter(x_train[:,4],y_train,color='blue')      #Displaying relation SLP and rainfall\n",
    "plt.title('Rainfall prediction (Training set)')\n",
    "plt.xlabel('SLP')\n",
    "plt.ylabel('Rainfall')\n",
    "plt.show()"
   ]
  },
  {
   "cell_type": "code",
   "execution_count": 58,
   "metadata": {},
   "outputs": [
    {
     "data": {
      "image/png": "[encoded data removed]",
      "text/plain": [
       "<Figure size 432x288 with 1 Axes>"
      ]
     },
     "metadata": {
      "needs_background": "light"
     },
     "output_type": "display_data"
    }
   ],
   "source": [
    "plt.scatter(x_train[:,5],y_train,color='blue')      #Displaying relation b/w visibility and rainfall\n",
    "plt.title('Rainfall prediction (Training set)')\n",
    "plt.xlabel('visibility')\n",
    "plt.ylabel('Rainfall')\n",
    "plt.show()"
   ]
  },
  {
   "cell_type": "code",
   "execution_count": 59,
   "metadata": {},
   "outputs": [
    {
     "data": {
      "image/png": "[encoded data removed]",
      "text/plain": [
       "<Figure size 432x288 with 1 Axes>"
      ]
     },
     "metadata": {
      "needs_background": "light"
     },
     "output_type": "display_data"
    }
   ],
   "source": [
    "plt.scatter(x_train[:,6],y_train,color='blue')     #Displaying relation b/w Wind and rainfall\n",
    "plt.title('Rainfall prediction (Training set)')\n",
    "plt.xlabel('Wind')\n",
    "plt.ylabel('Rainfall')\n",
    "plt.show()"
   ]
  },
  {
   "cell_type": "code",
   "execution_count": 60,
   "metadata": {},
   "outputs": [
    {
     "data": {
      "text/html": [
       "<div>\n",
       "<style scoped>\n",
       "    .dataframe tbody tr th:only-of-type {\n",
       "        vertical-align: middle;\n",
       "    }\n",
       "\n",
       "    .dataframe tbody tr th {\n",
       "        vertical-align: top;\n",
       "    }\n",
       "\n",
       "    .dataframe thead th {\n",
       "        text-align: right;\n",
       "    }\n",
       "</style>\n",
       "<table border=\"1\" class=\"dataframe\">\n",
       "  <thead>\n",
       "    <tr style=\"text-align: right;\">\n",
       "      <th></th>\n",
       "      <th>year</th>\n",
       "      <th>tempavg</th>\n",
       "      <th>DPavg</th>\n",
       "      <th>humidity avg</th>\n",
       "      <th>SLPavg</th>\n",
       "      <th>visibilityavg</th>\n",
       "      <th>windavg</th>\n",
       "      <th>Rainfall</th>\n",
       "    </tr>\n",
       "  </thead>\n",
       "  <tbody>\n",
       "    <tr>\n",
       "      <th>year</th>\n",
       "      <td>1.000000</td>\n",
       "      <td>0.090248</td>\n",
       "      <td>0.044044</td>\n",
       "      <td>-0.091357</td>\n",
       "      <td>0.085676</td>\n",
       "      <td>-0.082626</td>\n",
       "      <td>0.110007</td>\n",
       "      <td>0.041735</td>\n",
       "    </tr>\n",
       "    <tr>\n",
       "      <th>tempavg</th>\n",
       "      <td>0.090248</td>\n",
       "      <td>1.000000</td>\n",
       "      <td>0.863829</td>\n",
       "      <td>0.340977</td>\n",
       "      <td>-0.674395</td>\n",
       "      <td>0.704721</td>\n",
       "      <td>0.233133</td>\n",
       "      <td>0.070369</td>\n",
       "    </tr>\n",
       "    <tr>\n",
       "      <th>DPavg</th>\n",
       "      <td>0.044044</td>\n",
       "      <td>0.863829</td>\n",
       "      <td>1.000000</td>\n",
       "      <td>0.731021</td>\n",
       "      <td>-0.758224</td>\n",
       "      <td>0.604098</td>\n",
       "      <td>0.213889</td>\n",
       "      <td>0.177919</td>\n",
       "    </tr>\n",
       "    <tr>\n",
       "      <th>humidity avg</th>\n",
       "      <td>-0.091357</td>\n",
       "      <td>0.340977</td>\n",
       "      <td>0.731021</td>\n",
       "      <td>1.000000</td>\n",
       "      <td>-0.574413</td>\n",
       "      <td>0.173502</td>\n",
       "      <td>0.101864</td>\n",
       "      <td>0.297830</td>\n",
       "    </tr>\n",
       "    <tr>\n",
       "      <th>SLPavg</th>\n",
       "      <td>0.085676</td>\n",
       "      <td>-0.674395</td>\n",
       "      <td>-0.758224</td>\n",
       "      <td>-0.574413</td>\n",
       "      <td>1.000000</td>\n",
       "      <td>-0.557946</td>\n",
       "      <td>-0.378632</td>\n",
       "      <td>-0.242161</td>\n",
       "    </tr>\n",
       "    <tr>\n",
       "      <th>visibilityavg</th>\n",
       "      <td>-0.082626</td>\n",
       "      <td>0.704721</td>\n",
       "      <td>0.604098</td>\n",
       "      <td>0.173502</td>\n",
       "      <td>-0.557946</td>\n",
       "      <td>1.000000</td>\n",
       "      <td>0.244426</td>\n",
       "      <td>-0.022533</td>\n",
       "    </tr>\n",
       "    <tr>\n",
       "      <th>windavg</th>\n",
       "      <td>0.110007</td>\n",
       "      <td>0.233133</td>\n",
       "      <td>0.213889</td>\n",
       "      <td>0.101864</td>\n",
       "      <td>-0.378632</td>\n",
       "      <td>0.244426</td>\n",
       "      <td>1.000000</td>\n",
       "      <td>0.164852</td>\n",
       "    </tr>\n",
       "    <tr>\n",
       "      <th>Rainfall</th>\n",
       "      <td>0.041735</td>\n",
       "      <td>0.070369</td>\n",
       "      <td>0.177919</td>\n",
       "      <td>0.297830</td>\n",
       "      <td>-0.242161</td>\n",
       "      <td>-0.022533</td>\n",
       "      <td>0.164852</td>\n",
       "      <td>1.000000</td>\n",
       "    </tr>\n",
       "  </tbody>\n",
       "</table>\n",
       "</div>"
      ],
      "text/plain": [
       "                   year   tempavg     DPavg  humidity avg    SLPavg  \\\n",
       "year           1.000000  0.090248  0.044044     -0.091357  0.085676   \n",
       "tempavg        0.090248  1.000000  0.863829      0.340977 -0.674395   \n",
       "DPavg          0.044044  0.863829  1.000000      0.731021 -0.758224   \n",
       "humidity avg  -0.091357  0.340977  0.731021      1.000000 -0.574413   \n",
       "SLPavg         0.085676 -0.674395 -0.758224     -0.574413  1.000000   \n",
       "visibilityavg -0.082626  0.704721  0.604098      0.173502 -0.557946   \n",
       "windavg        0.110007  0.233133  0.213889      0.101864 -0.378632   \n",
       "Rainfall       0.041735  0.070369  0.177919      0.297830 -0.242161   \n",
       "\n",
       "               visibilityavg   windavg  Rainfall  \n",
       "year               -0.082626  0.110007  0.041735  \n",
       "tempavg             0.704721  0.233133  0.070369  \n",
       "DPavg               0.604098  0.213889  0.177919  \n",
       "humidity avg        0.173502  0.101864  0.297830  \n",
       "SLPavg             -0.557946 -0.378632 -0.242161  \n",
       "visibilityavg       1.000000  0.244426 -0.022533  \n",
       "windavg             0.244426  1.000000  0.164852  \n",
       "Rainfall           -0.022533  0.164852  1.000000  "
      ]
     },
     "execution_count": 60,
     "metadata": {},
     "output_type": "execute_result"
    }
   ],
   "source": [
    "ds.corr()     #Co-relation b/w attributes"
   ]
  },
  {
   "cell_type": "code",
   "execution_count": 61,
   "metadata": {},
   "outputs": [],
   "source": [
    "import seaborn as sns      #importing seaborn Library"
   ]
  },
  {
   "cell_type": "code",
   "execution_count": 62,
   "metadata": {},
   "outputs": [
    {
     "data": {
      "text/plain": [
       "<matplotlib.axes._subplots.AxesSubplot at 0x219ec56fd30>"
      ]
     },
     "execution_count": 62,
     "metadata": {},
     "output_type": "execute_result"
    },
    {
     "data": {
      "image/png": "[encoded data removed]",
      "text/plain": [
       "<Figure size 432x288 with 2 Axes>"
      ]
     },
     "metadata": {
      "needs_background": "light"
     },
     "output_type": "display_data"
    }
   ],
   "source": [
    "sns.heatmap(ds.corr(),annot=True)    #Displaying Co-relation b/w attributes using Heatmap"
   ]
  },
  {
   "cell_type": "code",
   "execution_count": 68,
   "metadata": {},
   "outputs": [],
   "source": [
    "ypred1= regressor.predict([[2020,18,16,65,1013,6,8]])      #Predicting new data record.   "
   ]
  },
  {
   "cell_type": "code",
   "execution_count": 69,
   "metadata": {},
   "outputs": [
    {
     "data": {
      "text/plain": [
       "array([0.5184])"
      ]
     },
     "execution_count": 69,
     "metadata": {},
     "output_type": "execute_result"
    }
   ],
   "source": [
    "ypred1     #prediction"
   ]
  },
  {
   "cell_type": "markdown",
   "metadata": {},
   "source": [
    "\n",
    "# Done"
   ]
  }
 ],
 "metadata": {
  "kernelspec": {
   "display_name": "Python 3",
   "language": "python",
   "name": "python3"
  },
  "language_info": {
   "codemirror_mode": {
    "name": "ipython",
    "version": 3
   },
   "file_extension": ".py",
   "mimetype": "text/x-python",
   "name": "python",
   "nbconvert_exporter": "python",
   "pygments_lexer": "ipython3",
   "version": "3.6.8"
  }
 },
 "nbformat": 4,
 "nbformat_minor": 2
}
